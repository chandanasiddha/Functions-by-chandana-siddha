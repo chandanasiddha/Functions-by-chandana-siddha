{
 "cells": [
  {
   "cell_type": "markdown",
   "id": "97e5c338",
   "metadata": {},
   "source": [
    "### Practical Questions:"
   ]
  },
  {
   "cell_type": "markdown",
   "id": "9fdcc218",
   "metadata": {},
   "source": [
    "### 1. Write a Python function that takes a list of numbers as input and returns the sum of all even numbers in the list."
   ]
  },
  {
   "cell_type": "code",
   "execution_count": 2,
   "id": "42fa1066",
   "metadata": {},
   "outputs": [
    {
     "name": "stdout",
     "output_type": "stream",
     "text": [
      "The sum of all even numbers in the list is: 6\n"
     ]
    }
   ],
   "source": [
    "def sum_of_even_numbers(numbers):\n",
    "    # Initialize sum\n",
    "    even_sum = 0\n",
    "    \n",
    "    # Iterate through the list\n",
    "    for number in numbers:\n",
    "        # Check if the number is even\n",
    "        if number % 2 == 0:\n",
    "            even_sum += number\n",
    "    \n",
    "    return even_sum\n",
    "numbers = [1, 2, 3, 4, 5]\n",
    "result = sum_of_even_numbers(numbers)\n",
    "print(\"The sum of all even numbers in the list is:\", result)"
   ]
  },
  {
   "cell_type": "markdown",
   "id": "5344558c",
   "metadata": {},
   "source": [
    "### 2. Create a Python function that accepts a string and returns the reverse of that string."
   ]
  },
  {
   "cell_type": "code",
   "execution_count": 3,
   "id": "b7dea55d",
   "metadata": {},
   "outputs": [
    {
     "name": "stdout",
     "output_type": "stream",
     "text": [
      "The reversed string is: ahddiS anadnahC\n"
     ]
    }
   ],
   "source": [
    "def reverse_string(s):\n",
    "    # Reverse the string using slicing\n",
    "    reversed_s = s[::-1]\n",
    "    return reversed_s\n",
    "string = \"Chandana Siddha\"\n",
    "result = reverse_string(string)\n",
    "print(\"The reversed string is:\", result)"
   ]
  },
  {
   "cell_type": "markdown",
   "id": "8d721047",
   "metadata": {},
   "source": [
    "### 3. Implement a Python function that takes a list of integers and returns a new list containing the squares of each number."
   ]
  },
  {
   "cell_type": "code",
   "execution_count": 6,
   "id": "720070e1",
   "metadata": {},
   "outputs": [
    {
     "name": "stdout",
     "output_type": "stream",
     "text": [
      "The list of squared numbers is: [1, 4, 9, 16, 25]\n"
     ]
    }
   ],
   "source": [
    "def square_numbers(numbers):\n",
    "    squared_numbers = [number ** 2 for number in numbers]\n",
    "    return squared_numbers\n",
    "\n",
    "numbers = [1, 2, 3, 4, 5]\n",
    "result = square_numbers(numbers)\n",
    "print(\"The list of squared numbers is:\", result)"
   ]
  },
  {
   "cell_type": "markdown",
   "id": "47106fd5",
   "metadata": {},
   "source": [
    "### 4. Write a Python function that checks if a given number is prime or not from 1 to 200."
   ]
  },
  {
   "cell_type": "code",
   "execution_count": 7,
   "id": "6e5df5b7",
   "metadata": {},
   "outputs": [
    {
     "name": "stdout",
     "output_type": "stream",
     "text": [
      "1 is not a prime number\n",
      "2 is a prime number\n",
      "3 is a prime number\n",
      "4 is not a prime number\n",
      "5 is a prime number\n",
      "6 is not a prime number\n",
      "7 is a prime number\n",
      "8 is not a prime number\n",
      "9 is not a prime number\n",
      "10 is not a prime number\n",
      "11 is a prime number\n",
      "12 is not a prime number\n",
      "13 is a prime number\n",
      "14 is not a prime number\n",
      "15 is not a prime number\n",
      "16 is not a prime number\n",
      "17 is a prime number\n",
      "18 is not a prime number\n",
      "19 is a prime number\n",
      "20 is not a prime number\n",
      "21 is not a prime number\n",
      "22 is not a prime number\n",
      "23 is a prime number\n",
      "24 is not a prime number\n",
      "25 is not a prime number\n",
      "26 is not a prime number\n",
      "27 is not a prime number\n",
      "28 is not a prime number\n",
      "29 is a prime number\n",
      "30 is not a prime number\n",
      "31 is a prime number\n",
      "32 is not a prime number\n",
      "33 is not a prime number\n",
      "34 is not a prime number\n",
      "35 is not a prime number\n",
      "36 is not a prime number\n",
      "37 is a prime number\n",
      "38 is not a prime number\n",
      "39 is not a prime number\n",
      "40 is not a prime number\n",
      "41 is a prime number\n",
      "42 is not a prime number\n",
      "43 is a prime number\n",
      "44 is not a prime number\n",
      "45 is not a prime number\n",
      "46 is not a prime number\n",
      "47 is a prime number\n",
      "48 is not a prime number\n",
      "49 is not a prime number\n",
      "50 is not a prime number\n",
      "51 is not a prime number\n",
      "52 is not a prime number\n",
      "53 is a prime number\n",
      "54 is not a prime number\n",
      "55 is not a prime number\n",
      "56 is not a prime number\n",
      "57 is not a prime number\n",
      "58 is not a prime number\n",
      "59 is a prime number\n",
      "60 is not a prime number\n",
      "61 is a prime number\n",
      "62 is not a prime number\n",
      "63 is not a prime number\n",
      "64 is not a prime number\n",
      "65 is not a prime number\n",
      "66 is not a prime number\n",
      "67 is a prime number\n",
      "68 is not a prime number\n",
      "69 is not a prime number\n",
      "70 is not a prime number\n",
      "71 is a prime number\n",
      "72 is not a prime number\n",
      "73 is a prime number\n",
      "74 is not a prime number\n",
      "75 is not a prime number\n",
      "76 is not a prime number\n",
      "77 is not a prime number\n",
      "78 is not a prime number\n",
      "79 is a prime number\n",
      "80 is not a prime number\n",
      "81 is not a prime number\n",
      "82 is not a prime number\n",
      "83 is a prime number\n",
      "84 is not a prime number\n",
      "85 is not a prime number\n",
      "86 is not a prime number\n",
      "87 is not a prime number\n",
      "88 is not a prime number\n",
      "89 is a prime number\n",
      "90 is not a prime number\n",
      "91 is not a prime number\n",
      "92 is not a prime number\n",
      "93 is not a prime number\n",
      "94 is not a prime number\n",
      "95 is not a prime number\n",
      "96 is not a prime number\n",
      "97 is a prime number\n",
      "98 is not a prime number\n",
      "99 is not a prime number\n",
      "100 is not a prime number\n",
      "101 is a prime number\n",
      "102 is not a prime number\n",
      "103 is a prime number\n",
      "104 is not a prime number\n",
      "105 is not a prime number\n",
      "106 is not a prime number\n",
      "107 is a prime number\n",
      "108 is not a prime number\n",
      "109 is a prime number\n",
      "110 is not a prime number\n",
      "111 is not a prime number\n",
      "112 is not a prime number\n",
      "113 is a prime number\n",
      "114 is not a prime number\n",
      "115 is not a prime number\n",
      "116 is not a prime number\n",
      "117 is not a prime number\n",
      "118 is not a prime number\n",
      "119 is not a prime number\n",
      "120 is not a prime number\n",
      "121 is not a prime number\n",
      "122 is not a prime number\n",
      "123 is not a prime number\n",
      "124 is not a prime number\n",
      "125 is not a prime number\n",
      "126 is not a prime number\n",
      "127 is a prime number\n",
      "128 is not a prime number\n",
      "129 is not a prime number\n",
      "130 is not a prime number\n",
      "131 is a prime number\n",
      "132 is not a prime number\n",
      "133 is not a prime number\n",
      "134 is not a prime number\n",
      "135 is not a prime number\n",
      "136 is not a prime number\n",
      "137 is a prime number\n",
      "138 is not a prime number\n",
      "139 is a prime number\n",
      "140 is not a prime number\n",
      "141 is not a prime number\n",
      "142 is not a prime number\n",
      "143 is not a prime number\n",
      "144 is not a prime number\n",
      "145 is not a prime number\n",
      "146 is not a prime number\n",
      "147 is not a prime number\n",
      "148 is not a prime number\n",
      "149 is a prime number\n",
      "150 is not a prime number\n",
      "151 is a prime number\n",
      "152 is not a prime number\n",
      "153 is not a prime number\n",
      "154 is not a prime number\n",
      "155 is not a prime number\n",
      "156 is not a prime number\n",
      "157 is a prime number\n",
      "158 is not a prime number\n",
      "159 is not a prime number\n",
      "160 is not a prime number\n",
      "161 is not a prime number\n",
      "162 is not a prime number\n",
      "163 is a prime number\n",
      "164 is not a prime number\n",
      "165 is not a prime number\n",
      "166 is not a prime number\n",
      "167 is a prime number\n",
      "168 is not a prime number\n",
      "169 is not a prime number\n",
      "170 is not a prime number\n",
      "171 is not a prime number\n",
      "172 is not a prime number\n",
      "173 is a prime number\n",
      "174 is not a prime number\n",
      "175 is not a prime number\n",
      "176 is not a prime number\n",
      "177 is not a prime number\n",
      "178 is not a prime number\n",
      "179 is a prime number\n",
      "180 is not a prime number\n",
      "181 is a prime number\n",
      "182 is not a prime number\n",
      "183 is not a prime number\n",
      "184 is not a prime number\n",
      "185 is not a prime number\n",
      "186 is not a prime number\n",
      "187 is not a prime number\n",
      "188 is not a prime number\n",
      "189 is not a prime number\n",
      "190 is not a prime number\n",
      "191 is a prime number\n",
      "192 is not a prime number\n",
      "193 is a prime number\n",
      "194 is not a prime number\n",
      "195 is not a prime number\n",
      "196 is not a prime number\n",
      "197 is a prime number\n",
      "198 is not a prime number\n",
      "199 is a prime number\n",
      "200 is not a prime number\n"
     ]
    }
   ],
   "source": [
    "def is_prime(n):\n",
    "    # Check if the number is less than 2 (not prime)\n",
    "    if n < 2:\n",
    "        return False\n",
    "    # Check for factors from 2 to the square root of the number\n",
    "    for i in range(2, int(n ** 0.5) + 1):\n",
    "        if n % i == 0:\n",
    "            return False\n",
    "    return True\n",
    "\n",
    "# Check prime numbers in the range 1 to 200\n",
    "for number in range(1, 201):\n",
    "    if is_prime(number):\n",
    "        print(number, \"is a prime number\")\n",
    "    else:\n",
    "        print(number, \"is not a prime number\")"
   ]
  },
  {
   "cell_type": "markdown",
   "id": "3be6d481",
   "metadata": {},
   "source": [
    "### 5. Create an iterator class in Python that generates the Fibonacci sequence up to a specified number of terms."
   ]
  },
  {
   "cell_type": "code",
   "execution_count": 8,
   "id": "38723843",
   "metadata": {},
   "outputs": [
    {
     "name": "stdout",
     "output_type": "stream",
     "text": [
      "Fibonacci Series:  0 1 1 2 3\n"
     ]
    }
   ],
   "source": [
    "#function to return list of fibonacci sequence\n",
    "def fibonacci(n):\n",
    "    i = 0\n",
    "    l = [0,1] \n",
    "    while i < n-2:\n",
    "        l.append(l[-1]+l[-2])\n",
    "        i+=1\n",
    "    return l\n",
    "if __name__ == \"__main__\":\n",
    "   #defining the total number of elements\n",
    "    n = 5   \n",
    "    #calling of function\n",
    "    fibo = fibonacci(n)\n",
    "    print(\"Fibonacci Series: \",*fibo)"
   ]
  },
  {
   "cell_type": "markdown",
   "id": "8d5b9353",
   "metadata": {},
   "source": [
    "### 6. Write a generator function in Python that yields the powers of 2 up to a given exponent."
   ]
  },
  {
   "cell_type": "code",
   "execution_count": 9,
   "id": "cfa95099",
   "metadata": {},
   "outputs": [
    {
     "name": "stdout",
     "output_type": "stream",
     "text": [
      "Powers of 2 up to exponent 4:\n",
      "1\n",
      "2\n",
      "4\n",
      "8\n",
      "16\n"
     ]
    }
   ],
   "source": [
    "def powers_of_2(max_exponent):\n",
    "    exponent = 0\n",
    "    while exponent <= max_exponent:\n",
    "        yield 2 ** exponent\n",
    "        exponent += 1\n",
    "max_exponent = 4\n",
    "print(f\"Powers of 2 up to exponent {max_exponent}:\")\n",
    "for power in powers_of_2(max_exponent):\n",
    "    print(power)"
   ]
  },
  {
   "cell_type": "markdown",
   "id": "7172f1b6",
   "metadata": {},
   "source": [
    "### 7. Implement a generator function that reads a file line by line and yields each line as a string."
   ]
  },
  {
   "cell_type": "code",
   "execution_count": 10,
   "id": "7e2cc45d",
   "metadata": {},
   "outputs": [
    {
     "name": "stdout",
     "output_type": "stream",
     "text": [
      "File not found: example.txt\n"
     ]
    }
   ],
   "source": [
    "def read_file_line_by_line(file_path):\n",
    "    try:\n",
    "        with open(file_path, 'r') as file:\n",
    "            for line in file:\n",
    "                yield line.strip()\n",
    "    except FileNotFoundError:\n",
    "        print(f\"File not found: {file_path}\")\n",
    "    except Exception as e:\n",
    "        print(f\"An error occurred: {e}\")\n",
    "file_path = 'example.txt'\n",
    "for line in read_file_line_by_line(file_path):\n",
    "    print(line)"
   ]
  },
  {
   "cell_type": "markdown",
   "id": "c6f3bdfe",
   "metadata": {},
   "source": [
    "### 8. Use a lambda function in Python to sort a list of tuples based on the second element of each tuple."
   ]
  },
  {
   "cell_type": "code",
   "execution_count": 11,
   "id": "a0af2a76",
   "metadata": {},
   "outputs": [
    {
     "name": "stdout",
     "output_type": "stream",
     "text": [
      "Sorted list: [(2, 'a'), (1, 'b'), (3, 'c'), (4, 'd')]\n"
     ]
    }
   ],
   "source": [
    "# Sample list of tuples\n",
    "tuples_list = [(1, 'b'), (2, 'a'), (4, 'd'), (3, 'c')]\n",
    "\n",
    "# Sort the list of tuples based on the second element of each tuple\n",
    "sorted_list = sorted(tuples_list, key=lambda x: x[1])\n",
    "\n",
    "print(\"Sorted list:\", sorted_list)"
   ]
  },
  {
   "cell_type": "markdown",
   "id": "c3e4198f",
   "metadata": {},
   "source": [
    "### 9. Write a Python program that uses `map()` to convert a list of temperatures from Celsius to Fahrenheit."
   ]
  },
  {
   "cell_type": "code",
   "execution_count": 15,
   "id": "8ecc326d",
   "metadata": {},
   "outputs": [
    {
     "name": "stdout",
     "output_type": "stream",
     "text": [
      "Temperatures in Fahrenheit: [32.0, 80.6, 86.0, 107.6, 212.0]\n"
     ]
    }
   ],
   "source": [
    "# Function to convert Celsius to Fahrenheit\n",
    "def cels_to_fahr(cels):\n",
    "    return (cels * 9/5) + 32\n",
    "\n",
    "# List of temperatures in Celsius\n",
    "cels_temperatures = [0, 27, 30, 42,100]\n",
    "\n",
    "# Use map() to convert the list of temperatures to Fahrenheit\n",
    "fahr_temperatures = list(map(cels_to_fahr, cels_temperatures))\n",
    "\n",
    "# Print the list of temperatures in Fahrenheit\n",
    "print(\"Temperatures in Fahrenheit:\", fahr_temperatures)"
   ]
  },
  {
   "cell_type": "markdown",
   "id": "1db87461",
   "metadata": {},
   "source": [
    "### 10. Create a Python program that uses `filter()` to remove all the vowels from a given string."
   ]
  },
  {
   "cell_type": "code",
   "execution_count": 18,
   "id": "d6f04796",
   "metadata": {},
   "outputs": [
    {
     "name": "stdout",
     "output_type": "stream",
     "text": [
      "String without vowels: Vwls frm  gvn strng\n"
     ]
    }
   ],
   "source": [
    "def is_vowel(characters):\n",
    "    vowels = 'aeiouAEIOU'\n",
    "    return characters not in vowels\n",
    "\n",
    "def remove_vowels(input_string):\n",
    "    return ''.join(filter(is_vowel, input_string))\n",
    "input_string = \"Vowels from a given string\"\n",
    "result = remove_vowels(input_string)\n",
    "print(\"String without vowels:\", result)"
   ]
  },
  {
   "cell_type": "markdown",
   "id": "4a253b7e",
   "metadata": {},
   "source": [
    "### 11) Imagine an accounting routine used in a book shop. It works on a list with sublists, which look like this:"
   ]
  },
  {
   "cell_type": "raw",
   "id": "302ea0a7",
   "metadata": {},
   "source": [
    "Order Number\tBook Title and Author\t       Quantity\t       Price per Item\n",
    "34587\t       Learning Python, Mark Lutz\t         4         \t40.95\n",
    "98762\t       Programming Python, Mark Lutz\t     5      \t56.80\n",
    "77226          Head First Python, Paul Barry\t     3\t        32.95\n",
    "88112\t       Einführung in Python3, Bernd Klein\t 3\t        24.99\n",
    "\n",
    "Write a Python program, which returns a list with 2-tuples. Each tuple consists of the order number and the product of the price per item and the quantity. The product should be increased by 10,- € if the value of the order is smaller than 100,00 €.\n",
    "Write a Python program using lambda and map"
   ]
  },
  {
   "cell_type": "code",
   "execution_count": 26,
   "id": "96b8db07",
   "metadata": {},
   "outputs": [
    {
     "name": "stdout",
     "output_type": "stream",
     "text": [
      "Order Summary:  [(34587, 40.95), (98762, 56.8), 108.85000000000001, 84.97]\n"
     ]
    }
   ],
   "source": [
    "order = [[34587,'Learning Python','Mark Lutz',4,40.95],\n",
    "         [98762,'Programming Python','Mark Lutz',5,56.80],\n",
    "         [77226,'Head First Python','Paul Barry',3,32.95],\n",
    "         [88112,'Einführung in Python3','Bernd Klein',3,24.99]]\n",
    "#with using lambda and map\n",
    "print(\"Order Summary: \",list(map(lambda x: (x[0],x[-1]) if x[-1]*x[-2] > 100 else x[-1]*x[-2]+10, order)))"
   ]
  },
  {
   "cell_type": "code",
   "execution_count": null,
   "id": "7c780a8e",
   "metadata": {},
   "outputs": [],
   "source": []
  }
 ],
 "metadata": {
  "kernelspec": {
   "display_name": "Python 3 (ipykernel)",
   "language": "python",
   "name": "python3"
  },
  "language_info": {
   "codemirror_mode": {
    "name": "ipython",
    "version": 3
   },
   "file_extension": ".py",
   "mimetype": "text/x-python",
   "name": "python",
   "nbconvert_exporter": "python",
   "pygments_lexer": "ipython3",
   "version": "3.11.4"
  }
 },
 "nbformat": 4,
 "nbformat_minor": 5
}
