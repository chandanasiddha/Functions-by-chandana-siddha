{
 "cells": [
  {
   "cell_type": "markdown",
   "id": "adca6acc",
   "metadata": {},
   "source": [
    "### Theoretical Questions"
   ]
  },
  {
   "cell_type": "markdown",
   "id": "de08cc67",
   "metadata": {},
   "source": [
    "### 1. What is the difference between a function and a method in Python?"
   ]
  },
  {
   "cell_type": "raw",
   "id": "cbf0ff98",
   "metadata": {},
   "source": [
    "A function is a block of code that can be called from anywhere, while a method is a function that is associated with an object or class. \n",
    "A function is a standalone piece of code, while a method is a function that belongs to an object or class"
   ]
  },
  {
   "cell_type": "code",
   "execution_count": 1,
   "id": "e83896b7",
   "metadata": {},
   "outputs": [
    {
     "name": "stdout",
     "output_type": "stream",
     "text": [
      "This is a function.\n"
     ]
    }
   ],
   "source": [
    "def my_function():\n",
    "    print(\"This is a function.\")\n",
    "\n",
    "my_function()"
   ]
  },
  {
   "cell_type": "code",
   "execution_count": 2,
   "id": "089d171a",
   "metadata": {},
   "outputs": [
    {
     "name": "stdout",
     "output_type": "stream",
     "text": [
      "This is a method.\n"
     ]
    }
   ],
   "source": [
    "class MyClass:\n",
    "    def my_method(self):\n",
    "        print(\"This is a method.\")\n",
    "\n",
    "obj = MyClass()\n",
    "obj.my_method()\n"
   ]
  },
  {
   "cell_type": "markdown",
   "id": "7865e60b",
   "metadata": {},
   "source": [
    "### 2. Explain the concept of function arguments and parameters in Python."
   ]
  },
  {
   "cell_type": "raw",
   "id": "90485497",
   "metadata": {},
   "source": [
    "Parameters are the variables listed inside the parentheses in the function definition. They act as placeholders for the values that will be passed to the function."
   ]
  },
  {
   "cell_type": "code",
   "execution_count": 4,
   "id": "ec4f8ec6",
   "metadata": {},
   "outputs": [
    {
     "name": "stdout",
     "output_type": "stream",
     "text": [
      "2 * 1 = 2\n",
      "2 * 2 = 4\n",
      "2 * 3 = 6\n",
      "2 * 4 = 8\n",
      "2 * 5 = 10\n",
      "2 * 6 = 12\n",
      "2 * 7 = 14\n",
      "2 * 8 = 16\n",
      "2 * 9 = 18\n",
      "2 * 10 = 20\n"
     ]
    }
   ],
   "source": [
    "def table(n):\n",
    "    for i in range(1,11):\n",
    "        print(n,'*',i,'=',n*i)\n",
    "        \n",
    "table(2)"
   ]
  },
  {
   "cell_type": "raw",
   "id": "2d06715d",
   "metadata": {},
   "source": [
    "Arguments are the actual values that are passed to the function when it is called. They replace the parameters in the function definition with actual data."
   ]
  },
  {
   "cell_type": "code",
   "execution_count": 5,
   "id": "02be9071",
   "metadata": {},
   "outputs": [
    {
     "name": "stdout",
     "output_type": "stream",
     "text": [
      "2\n",
      "4\n"
     ]
    }
   ],
   "source": [
    "def fun1(a,b,c=6):  # a and b are positional arguments, c=default argument\n",
    "    r = (b*a) - c\n",
    "    print(r)\n",
    "    \n",
    "fun1(2,3,4) # a=2,b=3,c=4  # (3*2)-4 = 2\n",
    "fun1(5,2) # a=5,b=2,c=6  #   (2*5)-6 = 4"
   ]
  },
  {
   "cell_type": "markdown",
   "id": "dc61cb4b",
   "metadata": {},
   "source": [
    "### 3. What are the different ways to define and call a function in Python?"
   ]
  },
  {
   "cell_type": "raw",
   "id": "9e5635fe",
   "metadata": {},
   "source": [
    "There are several ways to define and call functions in Python. Let's go through some of the most common ones:\n",
    "1. Basic Function Definition and Call using the def keyword.\n",
    "2. Function with Parameters including parameters in the parentheses.\n",
    "3. Function with Default Parameters assigning default values to parameters.\n",
    "4. Lambda Function using the lambda keyword for small anonymous functions.\n",
    "5. Nested Function defining a function inside another function.\n",
    "\n",
    "These are some of the different ways to define and call functions in Python. Each method has its own use cases and can help make your code more modular and reusable."
   ]
  },
  {
   "cell_type": "code",
   "execution_count": 7,
   "id": "857f5328",
   "metadata": {},
   "outputs": [
    {
     "name": "stdout",
     "output_type": "stream",
     "text": [
      "Hello, World!\n"
     ]
    }
   ],
   "source": [
    "# Define the function\n",
    "def a():\n",
    "    print(\"Hello, World!\")\n",
    "\n",
    "# Call the function\n",
    "a()"
   ]
  },
  {
   "cell_type": "markdown",
   "id": "da380c18",
   "metadata": {},
   "source": [
    "### 4. What is the purpose of the `return` statement in a Python function?"
   ]
  },
  {
   "cell_type": "raw",
   "id": "cd95ee98",
   "metadata": {},
   "source": [
    "The return statement allows a function to send a value back to the caller."
   ]
  },
  {
   "cell_type": "code",
   "execution_count": 8,
   "id": "b769b36d",
   "metadata": {},
   "outputs": [
    {
     "name": "stdout",
     "output_type": "stream",
     "text": [
      "8\n"
     ]
    }
   ],
   "source": [
    "def add(a, b):\n",
    "    return a + b\n",
    "\n",
    "result = add(3, 5)\n",
    "print(result)  # Output: 8"
   ]
  },
  {
   "cell_type": "markdown",
   "id": "16d9952b",
   "metadata": {},
   "source": [
    "### 5. What are iterators in Python and how do they differ from iterables?"
   ]
  },
  {
   "cell_type": "raw",
   "id": "bfa92f3d",
   "metadata": {},
   "source": [
    "An iterable is any object in Python that can return its elements one at a time. It is an object that can be iterated over.\n",
    "Examples for iterables are lists,tuple,sets,string and dictionaries."
   ]
  },
  {
   "cell_type": "code",
   "execution_count": 9,
   "id": "b19ab0c9",
   "metadata": {},
   "outputs": [
    {
     "name": "stdout",
     "output_type": "stream",
     "text": [
      "1\n",
      "2\n",
      "3\n",
      "4\n",
      "5\n"
     ]
    }
   ],
   "source": [
    "my_list = [1, 2, 3, 4, 5]\n",
    "\n",
    "for item in my_list:\n",
    "    print(item)"
   ]
  },
  {
   "cell_type": "raw",
   "id": "9ebb7894",
   "metadata": {},
   "source": [
    "An iterator is an object that represents a stream of data. It returns the data one element at a time when the __next__() method is called."
   ]
  },
  {
   "cell_type": "code",
   "execution_count": 10,
   "id": "bfc330dc",
   "metadata": {},
   "outputs": [
    {
     "name": "stdout",
     "output_type": "stream",
     "text": [
      "1\n",
      "2\n"
     ]
    }
   ],
   "source": [
    "my_list = [1, 2, 3, 4, 5]\n",
    "my_iterator = iter(my_list)\n",
    "\n",
    "print(next(my_iterator))  # Output: 1\n",
    "print(next(my_iterator))  # Output: 2"
   ]
  },
  {
   "cell_type": "markdown",
   "id": "b35b3008",
   "metadata": {},
   "source": [
    "### 6. Explain the concept of generators in Python and how they are defined."
   ]
  },
  {
   "cell_type": "raw",
   "id": "c4173587",
   "metadata": {},
   "source": [
    "Generators in Python are a special kind of iterator that allow to iterate over data without storing the entire dataset in memory. This makes them very efficient for handling large datasets or streams of data.\n",
    "Generator functions use the _yield_ keyword to produce a sequence of values."
   ]
  },
  {
   "cell_type": "markdown",
   "id": "08129f56",
   "metadata": {},
   "source": [
    "### 7. What are the advantages of using generators over regular functions?"
   ]
  },
  {
   "cell_type": "raw",
   "id": "fbbd9028",
   "metadata": {},
   "source": [
    "Generators offer several advantages over regular functions, making them a powerful tool in Python programming. Some of the advantages are:\n",
    "1. Memory efficiency\n",
    "2. Simplified code\n",
    "3. Improved Performance\n",
    "4. Infinite Sequences"
   ]
  },
  {
   "cell_type": "markdown",
   "id": "2d7e64d7",
   "metadata": {},
   "source": [
    "### 8. What is a lambda function in Python and when is it typically used?"
   ]
  },
  {
   "cell_type": "raw",
   "id": "75424b5f",
   "metadata": {},
   "source": [
    "A lambda function in Python is a small function defined using the lambda keyword. Unlike regular functions defined using the def keyword, lambda functions can have any number of arguments but only a single expression. They are often used for short, simple operations that are easy to write in a single line."
   ]
  },
  {
   "cell_type": "code",
   "execution_count": 11,
   "id": "c7651dd0",
   "metadata": {},
   "outputs": [
    {
     "name": "stdout",
     "output_type": "stream",
     "text": [
      "4\n"
     ]
    }
   ],
   "source": [
    "square = lambda x: x ** 2\n",
    "print(square(2))  # Output: 4"
   ]
  },
  {
   "cell_type": "markdown",
   "id": "85573c5a",
   "metadata": {},
   "source": [
    "### 9. Explain the purpose and usage of the `map()` function in Python."
   ]
  },
  {
   "cell_type": "raw",
   "id": "5c3ecc3d",
   "metadata": {},
   "source": [
    "The map() function in Python is a built-in function used to apply a specified function to each item in an iterable and return a map object which is an iterator. The purpose of the map() function is to provide a convenient way to perform element-wise operations on an entire collection of data."
   ]
  },
  {
   "cell_type": "code",
   "execution_count": 12,
   "id": "52bcb75c",
   "metadata": {},
   "outputs": [
    {
     "name": "stdout",
     "output_type": "stream",
     "text": [
      "[5, 7, 9]\n"
     ]
    }
   ],
   "source": [
    "def add(x, y):\n",
    "    return x + y\n",
    "\n",
    "num1 = [1, 2, 3]\n",
    "num2 = [4, 5, 6]\n",
    "\n",
    "# Appling the add function to corresponding elements from num1 and num2\n",
    "sum_of_num = map(add, num1, num2)\n",
    "\n",
    "# Convert the map object to a list and print it\n",
    "print(list(sum_of_num))  # Output: [5, 7, 9]"
   ]
  },
  {
   "cell_type": "markdown",
   "id": "f92f90d1",
   "metadata": {},
   "source": [
    "### 10. What is the difference between `map()`, `reduce()`, and `filter()` functions in Python?"
   ]
  },
  {
   "cell_type": "raw",
   "id": "955de433",
   "metadata": {},
   "source": [
    "map() : is a function to make each item of an iterables and reurn s a mao object which is an iterator. It is used for element-wise transformation.\n",
    "reduce() :is a function cumulatively to the items of an iterable, from left to right, to reduce the iterable to a single value.Used for cumulative operations like sum and multiplying.\n",
    "filter() :is a function to each item of an iterable and returns an iterator yielding only the items for which the function returns True.Used for filtering elements based on a condition"
   ]
  },
  {
   "cell_type": "raw",
   "id": "c12e5f16",
   "metadata": {},
   "source": [
    "map(): Transforms each element in an iterable using a function.\n",
    "reduce(): Reduces an iterable to a single value using a cumulative function.\n",
    "filter(): Filters elements in an iterable based on a condition."
   ]
  },
  {
   "cell_type": "markdown",
   "id": "54754a75",
   "metadata": {},
   "source": [
    "### 11. Using pen & Paper write the internal mechanism for sum operation using  reduce function on this given list:[47,11,42,13];"
   ]
  },
  {
   "cell_type": "raw",
   "id": "d286e03a",
   "metadata": {},
   "source": []
  }
 ],
 "metadata": {
  "kernelspec": {
   "display_name": "Python 3 (ipykernel)",
   "language": "python",
   "name": "python3"
  },
  "language_info": {
   "codemirror_mode": {
    "name": "ipython",
    "version": 3
   },
   "file_extension": ".py",
   "mimetype": "text/x-python",
   "name": "python",
   "nbconvert_exporter": "python",
   "pygments_lexer": "ipython3",
   "version": "3.11.4"
  },
  "widgets": {
   "application/vnd.jupyter.widget-state+json": {
    "state": {},
    "version_major": 2,
    "version_minor": 0
   }
  }
 },
 "nbformat": 4,
 "nbformat_minor": 5
}
